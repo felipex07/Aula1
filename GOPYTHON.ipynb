{
  "nbformat": 4,
  "nbformat_minor": 0,
  "metadata": {
    "colab": {
      "provenance": [],
      "authorship_tag": "ABX9TyNfbaaD42jTo7B9H4hNMiMq",
      "include_colab_link": true
    },
    "kernelspec": {
      "name": "python3",
      "display_name": "Python 3"
    },
    "language_info": {
      "name": "python"
    }
  },
  "cells": [
    {
      "cell_type": "markdown",
      "metadata": {
        "id": "view-in-github",
        "colab_type": "text"
      },
      "source": [
        "<a href=\"https://colab.research.google.com/github/felipex07/Aula1/blob/main/GOPYTHON.ipynb\" target=\"_parent\"><img src=\"https://colab.research.google.com/assets/colab-badge.svg\" alt=\"Open In Colab\"/></a>"
      ]
    },
    {
      "cell_type": "code",
      "execution_count": null,
      "metadata": {
        "colab": {
          "base_uri": "https://localhost:8080/"
        },
        "id": "7bUyau989Wh6",
        "outputId": "81b34fb7-c53b-40a9-e40e-7af47875b8f8"
      },
      "outputs": [
        {
          "output_type": "stream",
          "name": "stdout",
          "text": [
            "O nome é Felipe\n"
          ]
        }
      ],
      "source": [
        "# código inicial\n",
        "print (olá, mundo)\n",
        "\n",
        "#meu nome\n",
        "nome = \"Felipe\"\n",
        "print(\"O nome é\", nome)"
      ]
    }
  ]
}